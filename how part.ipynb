{
 "cells": [
  {
   "cell_type": "markdown",
   "metadata": {},
   "source": [
    "## Importing Libraries"
   ]
  },
  {
   "cell_type": "code",
   "execution_count": 13,
   "metadata": {},
   "outputs": [],
   "source": [
    "import nltk\n",
    "from nltk.corpus import stopwords\n",
    "from nltk.tokenize import sent_tokenize,word_tokenize"
   ]
  },
  {
   "cell_type": "code",
   "execution_count": 17,
   "metadata": {},
   "outputs": [],
   "source": [
    "paragraph = \"\"\"NLP stands for Natural Language Processing, which is a part of Computer Science, Human language, and Artificial Intelligence. It is the technology that is used by machines to understand, analyse, manipulate, and interpret human's languages. It helps developers to organize knowledge for performing tasks such as translation, automatic summarization, Named Entity Recognition (NER), speech recognition, relationship extraction, and topic segmentation.\"\"\""
   ]
  },
  {
   "cell_type": "markdown",
   "metadata": {},
   "source": [
    "# Tokenization"
   ]
  },
  {
   "cell_type": "code",
   "execution_count": 18,
   "metadata": {},
   "outputs": [
    {
     "data": {
      "text/plain": [
       "['NLP stands for Natural Language Processing, which is a part of Computer Science, Human language, and Artificial Intelligence.',\n",
       " \"It is the technology that is used by machines to understand, analyse, manipulate, and interpret human's languages.\",\n",
       " 'It helps developers to organize knowledge for performing tasks such as translation, automatic summarization, Named Entity Recognition (NER), speech recognition, relationship extraction, and topic segmentation.']"
      ]
     },
     "execution_count": 18,
     "metadata": {},
     "output_type": "execute_result"
    }
   ],
   "source": [
    "sentences= nltk.sent_tokenize(paragraph)\n",
    "sentences\n"
   ]
  },
  {
   "cell_type": "markdown",
   "metadata": {},
   "source": [
    "## All Stop Words"
   ]
  },
  {
   "cell_type": "code",
   "execution_count": 25,
   "metadata": {},
   "outputs": [
    {
     "name": "stdout",
     "output_type": "stream",
     "text": [
      "{'she', 'hadn', 'is', 'after', 'further', \"don't\", 'him', 'these', 'where', 'whom', \"hadn't\", 'i', 'this', 'any', 'was', 'no', 'ourselves', 'can', 'herself', 'couldn', 'll', \"you'll\", 'shouldn', 'all', 'your', 'now', \"wasn't\", 'you', 'which', 'been', 'hasn', 'under', 'up', 'her', 'are', \"needn't\", 'needn', 'am', 'me', 'too', 'ain', 'for', 'weren', 'down', \"mightn't\", 'if', 'same', \"should've\", 'themselves', 'does', 'won', 'theirs', 'in', 'who', \"isn't\", 'as', \"shouldn't\", 'below', 'that', 'a', 'ours', 'yourself', 'were', \"haven't\", 'why', 'on', 'off', 'more', 'into', 'only', 'don', 'shan', \"aren't\", 'than', 'because', 'from', 'o', 'about', 've', 're', \"won't\", \"you're\", 'with', 'those', 'there', 'over', 'my', 'nor', 'each', 'myself', 'hers', 'during', 'isn', 'being', \"you'd\", \"you've\", 'and', 'doing', 'but', 'yourselves', 'ma', 'by', 'has', 'or', 'against', 't', \"mustn't\", 'them', 'mustn', 'other', 'd', 'itself', 'what', 'mightn', 'once', 'few', 'until', 'had', 'while', 'the', 'very', 'they', 'himself', 'then', \"hasn't\", 'both', 'y', 'of', 'will', 'be', 'have', 'again', 'above', \"shan't\", 'aren', 'just', 'so', \"couldn't\", 'did', 'his', 'we', 'to', 'at', 'out', 'an', \"doesn't\", 'most', 'through', 'such', 'before', 'here', \"didn't\", 'haven', 'do', 'should', 'when', 'not', 'doesn', 'yours', 'wouldn', 'he', 'its', 'some', 'm', 'between', \"weren't\", \"that'll\", \"wouldn't\", 'own', 'their', 's', \"she's\", 'wasn', 'our', \"it's\", 'how', 'it', 'didn', 'having'}\n"
     ]
    }
   ],
   "source": [
    "stopWords = set(stopwords.words('english'))\n",
    "print(stopWords)"
   ]
  },
  {
   "cell_type": "markdown",
   "metadata": {},
   "source": [
    "## How many stop words present in my system"
   ]
  },
  {
   "cell_type": "code",
   "execution_count": 26,
   "metadata": {},
   "outputs": [
    {
     "name": "stdout",
     "output_type": "stream",
     "text": [
      "179\n"
     ]
    }
   ],
   "source": [
    "print(len(stopWords))"
   ]
  },
  {
   "cell_type": "markdown",
   "metadata": {},
   "source": [
    "### 179 stop words present in my system"
   ]
  },
  {
   "cell_type": "markdown",
   "metadata": {},
   "source": [
    "## Removing Stop Words from Paragraph"
   ]
  },
  {
   "cell_type": "code",
   "execution_count": 19,
   "metadata": {},
   "outputs": [
    {
     "name": "stdout",
     "output_type": "stream",
     "text": [
      "NLP\n",
      "stands\n",
      "Natural\n",
      "Language\n",
      "Processing\n",
      ",\n",
      "part\n",
      "Computer\n",
      "Science\n",
      ",\n",
      "Human\n",
      "language\n",
      ",\n",
      "Artificial\n",
      "Intelligence\n",
      ".\n",
      "It\n",
      "technology\n",
      "used\n",
      "machines\n",
      "understand\n",
      ",\n",
      "analyse\n",
      ",\n",
      "manipulate\n",
      ",\n",
      "interpret\n",
      "human\n",
      "'s\n",
      "languages\n",
      ".\n",
      "It\n",
      "helps\n",
      "developers\n",
      "organize\n",
      "knowledge\n",
      "performing\n",
      "tasks\n",
      "translation\n",
      ",\n",
      "automatic\n",
      "summarization\n",
      ",\n",
      "Named\n",
      "Entity\n",
      "Recognition\n",
      "(\n",
      "NER\n",
      ")\n",
      ",\n",
      "speech\n",
      "recognition\n",
      ",\n",
      "relationship\n",
      "extraction\n",
      ",\n",
      "topic\n",
      "segmentation\n",
      ".\n"
     ]
    }
   ],
   "source": [
    "sw=stopwords.words('english')\n",
    "wordtokens=word_tokenize(paragraph)\n",
    "for v in wordtokens:\n",
    "    if v not in sw:\n",
    "        print(v)\n"
   ]
  },
  {
   "cell_type": "code",
   "execution_count": null,
   "metadata": {},
   "outputs": [],
   "source": []
  },
  {
   "cell_type": "code",
   "execution_count": null,
   "metadata": {},
   "outputs": [],
   "source": []
  }
 ],
 "metadata": {
  "kernelspec": {
   "display_name": "Python 3",
   "language": "python",
   "name": "python3"
  },
  "language_info": {
   "codemirror_mode": {
    "name": "ipython",
    "version": 3
   },
   "file_extension": ".py",
   "mimetype": "text/x-python",
   "name": "python",
   "nbconvert_exporter": "python",
   "pygments_lexer": "ipython3",
   "version": "3.7.3"
  }
 },
 "nbformat": 4,
 "nbformat_minor": 2
}
